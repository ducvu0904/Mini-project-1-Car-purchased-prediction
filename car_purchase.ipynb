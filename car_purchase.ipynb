{
 "cells": [
  {
   "cell_type": "code",
   "execution_count": null,
   "id": "0e5c1df1",
   "metadata": {},
   "outputs": [
    {
     "name": "stdout",
     "output_type": "stream",
     "text": [
      "<class 'pandas.core.frame.DataFrame'>\n",
      "RangeIndex: 400 entries, 0 to 399\n",
      "Data columns (total 5 columns):\n",
      " #   Column           Non-Null Count  Dtype \n",
      "---  ------           --------------  ----- \n",
      " 0   User ID          400 non-null    int64 \n",
      " 1   Gender           400 non-null    object\n",
      " 2   Age              400 non-null    int64 \n",
      " 3   EstimatedSalary  400 non-null    int64 \n",
      " 4   Purchased        400 non-null    int64 \n",
      "dtypes: int64(4), object(1)\n",
      "memory usage: 15.8+ KB\n"
     ]
    },
    {
     "data": {
      "text/plain": [
       "Index(['User ID', 'Gender', 'Age', 'EstimatedSalary', 'Purchased'], dtype='object')"
      ]
     },
     "execution_count": 5,
     "metadata": {},
     "output_type": "execute_result"
    }
   ],
   "source": [
    "                                            #Logistic Regression\n",
    "# load data and inspect\n",
    "import pandas as pd \n",
    "#load and inspect data\n",
    "df = pd.read_csv(\"Social_Network_Ads.csv\")\n",
    "df.head()\n",
    "df.info()\n",
    "df.describe()\n",
    "df.columns"
   ]
  },
  {
   "cell_type": "code",
   "execution_count": null,
   "id": "3fac34da",
   "metadata": {},
   "outputs": [
    {
     "name": "stdout",
     "output_type": "stream",
     "text": [
      "Gender             int64\n",
      "Age                int64\n",
      "EstimatedSalary    int64\n",
      "Purchased          int64\n",
      "dtype: object\n"
     ]
    },
    {
     "data": {
      "text/html": [
       "<div>\n",
       "<style scoped>\n",
       "    .dataframe tbody tr th:only-of-type {\n",
       "        vertical-align: middle;\n",
       "    }\n",
       "\n",
       "    .dataframe tbody tr th {\n",
       "        vertical-align: top;\n",
       "    }\n",
       "\n",
       "    .dataframe thead th {\n",
       "        text-align: right;\n",
       "    }\n",
       "</style>\n",
       "<table border=\"1\" class=\"dataframe\">\n",
       "  <thead>\n",
       "    <tr style=\"text-align: right;\">\n",
       "      <th></th>\n",
       "      <th>Gender</th>\n",
       "      <th>Age</th>\n",
       "      <th>EstimatedSalary</th>\n",
       "      <th>Purchased</th>\n",
       "    </tr>\n",
       "  </thead>\n",
       "  <tbody>\n",
       "    <tr>\n",
       "      <th>0</th>\n",
       "      <td>1</td>\n",
       "      <td>19</td>\n",
       "      <td>19000</td>\n",
       "      <td>0</td>\n",
       "    </tr>\n",
       "    <tr>\n",
       "      <th>1</th>\n",
       "      <td>1</td>\n",
       "      <td>35</td>\n",
       "      <td>20000</td>\n",
       "      <td>0</td>\n",
       "    </tr>\n",
       "    <tr>\n",
       "      <th>2</th>\n",
       "      <td>0</td>\n",
       "      <td>26</td>\n",
       "      <td>43000</td>\n",
       "      <td>0</td>\n",
       "    </tr>\n",
       "    <tr>\n",
       "      <th>3</th>\n",
       "      <td>0</td>\n",
       "      <td>27</td>\n",
       "      <td>57000</td>\n",
       "      <td>0</td>\n",
       "    </tr>\n",
       "    <tr>\n",
       "      <th>4</th>\n",
       "      <td>1</td>\n",
       "      <td>19</td>\n",
       "      <td>76000</td>\n",
       "      <td>0</td>\n",
       "    </tr>\n",
       "  </tbody>\n",
       "</table>\n",
       "</div>"
      ],
      "text/plain": [
       "   Gender  Age  EstimatedSalary  Purchased\n",
       "0       1   19            19000          0\n",
       "1       1   35            20000          0\n",
       "2       0   26            43000          0\n",
       "3       0   27            57000          0\n",
       "4       1   19            76000          0"
      ]
     },
     "execution_count": 6,
     "metadata": {},
     "output_type": "execute_result"
    }
   ],
   "source": [
    "#drop useless identifier\n",
    "df = df.drop(columns=['User ID'])\n",
    "df['Gender'] = df[\"Gender\"].map({\"Male\": 1, \"Female\": 0})\n",
    "\n",
    "print (df.dtypes)\n",
    "df.head()"
   ]
  },
  {
   "cell_type": "code",
   "execution_count": null,
   "id": "f04d10cc",
   "metadata": {},
   "outputs": [
    {
     "data": {
      "text/plain": [
       "((320, 3),\n",
       " (80, 3),\n",
       " Purchased\n",
       " 0    206\n",
       " 1    114\n",
       " Name: count, dtype: int64,\n",
       " Purchased\n",
       " 0    51\n",
       " 1    29\n",
       " Name: count, dtype: int64)"
      ]
     },
     "execution_count": 7,
     "metadata": {},
     "output_type": "execute_result"
    }
   ],
   "source": [
    "#features/labels + train/test split\n",
    "from sklearn.model_selection import train_test_split\n",
    "\n",
    "X = df[['Gender', 'Age', 'EstimatedSalary']]\n",
    "y = df['Purchased']\n",
    "\n",
    "X_train, X_test, y_train, y_test = train_test_split(X, y, test_size=0.2, random_state=42, stratify=y)\n",
    "X_train.shape, X_test.shape, y_train.value_counts(), y_test.value_counts()\n",
    "\n"
   ]
  },
  {
   "cell_type": "code",
   "execution_count": null,
   "id": "87455ccc",
   "metadata": {},
   "outputs": [
    {
     "name": "stdout",
     "output_type": "stream",
     "text": [
      "Accuracy: 0.8\n",
      "              precision    recall  f1-score   support\n",
      "\n",
      "           0      0.797     0.922     0.855        51\n",
      "           1      0.810     0.586     0.680        29\n",
      "\n",
      "    accuracy                          0.800        80\n",
      "   macro avg      0.803     0.754     0.767        80\n",
      "weighted avg      0.801     0.800     0.791        80\n",
      "\n"
     ]
    }
   ],
   "source": [
    "#Evaluate model\n",
    "#1) Imports\n",
    "from sklearn.pipeline import make_pipeline                        #builds a sequence of steps\n",
    "from sklearn.preprocessing import StandardScaler                  #scales numeric feature\n",
    "from sklearn.linear_model import LogisticRegression               #simple classification model\n",
    "from sklearn.metrics import accuracy_score, classification_report #ways to measure performance\n",
    "# 2) Build a pipeline: [scale] -> [logistic regression]\n",
    "pipe = make_pipeline(\n",
    "    StandardScaler(),                                   #scale features\n",
    "    LogisticRegression(random_state=42, max_iter=1000)  # the model\n",
    ")\n",
    "# 3) Train (fit) the model on the training set\n",
    "pipe.fit(X_train, y_train)\n",
    "\n",
    "# 4) Use the trained model to predict on the unseen (20%) test set\n",
    "y_predict = pipe.predict(X_test)\n",
    "\n",
    "# 5) Evaluate: how many right?\n",
    "print (\"Accuracy:\", accuracy_score(y_test, y_predict))\n",
    "print (classification_report(y_test, y_predict, digits=3))"
   ]
  },
  {
   "cell_type": "code",
   "execution_count": null,
   "id": "166df82e",
   "metadata": {},
   "outputs": [
    {
     "name": "stdout",
     "output_type": "stream",
     "text": [
      "Accuracy: 0.8\n",
      "AUC: 0.9080459770114943\n",
      "              precision    recall  f1-score   support\n",
      "\n",
      "           0      0.797     0.922     0.855        51\n",
      "           1      0.810     0.586     0.680        29\n",
      "\n",
      "    accuracy                          0.800        80\n",
      "   macro avg      0.803     0.754     0.767        80\n",
      "weighted avg      0.801     0.800     0.791        80\n",
      "\n"
     ]
    },
    {
     "data": {
      "image/png": "[encoded data removed]",
      "text/plain": [
       "<Figure size 640x480 with 2 Axes>"
      ]
     },
     "metadata": {},
     "output_type": "display_data"
    }
   ],
   "source": [
    "# Model performance\n",
    "from sklearn.metrics import ConfusionMatrixDisplay, roc_auc_score, classification_report\n",
    "import matplotlib.pyplot as plt\n",
    "\n",
    "#1) Predict class labels (0/1) and probabilities\n",
    "y_pred = pipe.predict(X_test)                   #class predictions\n",
    "y_proba = pipe.predict_proba(X_test)[:,1]       # probability of class \"1\"\n",
    "\n",
    "#2) Basic scores\n",
    "print (\"Accuracy:\", (y_pred == y_test).mean())\n",
    "print (\"AUC:\", roc_auc_score(y_test, y_proba))\n",
    "print (classification_report(y_test, y_pred, digits = 3))\n",
    "\n",
    "#3) Confusion matrix\n",
    "ConfusionMatrixDisplay.from_estimator(pipe, X_test, y_test)\n",
    "plt.show()"
   ]
  },
  {
   "cell_type": "code",
   "execution_count": null,
   "id": "9e303dc8",
   "metadata": {},
   "outputs": [
    {
     "name": "stdout",
     "output_type": "stream",
     "text": [
      "threshold=0.3 precision=0.650 recall=0.897 f1=0.754\n",
      "threshold=0.5 precision=0.810 recall=0.586 f1=0.680\n",
      "threshold=0.7 precision=0.875 recall=0.483 f1=0.622\n"
     ]
    }
   ],
   "source": [
    "# tune threshold\n",
    "from sklearn.metrics import precision_score, recall_score, f1_score\n",
    "\n",
    "# probabilities for buyer (class 1)\n",
    "y_pred = pipe.predict_proba(X_test)[:,1]\n",
    "\n",
    "def predict_with_threshold(proba, t):\n",
    "    return (proba >= t).astype(int)\n",
    "\n",
    "#try new thresold\n",
    "for t in [0.3, 0.5, 0.7]:\n",
    "    y_pred_thres = predict_with_threshold(y_proba, t)\n",
    "    prec = precision_score(y_test, y_pred_thres)\n",
    "    rec = recall_score(y_test, y_pred_thres)\n",
    "    f1 = f1_score(y_test, y_pred_thres)\n",
    "    print (f\"threshold={t:.1f} precision={prec:.3f} recall={rec:.3f} f1={f1:.3f}\")\n",
    "    #result\n",
    "# threshold=0.3 precision=0.650 recall=0.897 f1=0.754\n",
    "# threshold=0.5 precision=0.810 recall=0.586 f1=0.680\n",
    "# threshold=0.7 precision=0.875 recall=0.483 f1=0.622\n",
    "#=> threshold = 0.3: best f1"
   ]
  },
  {
   "cell_type": "code",
   "execution_count": null,
   "id": "e7417ca9",
   "metadata": {},
   "outputs": [
    {
     "data": {
      "text/plain": [
       "(          metric  value\n",
       " 0   accuracy:o,5  0.800\n",
       " 1  precision:0.5  0.810\n",
       " 2     recall:0.5  0.586\n",
       " 3         f1:0.5  0.680\n",
       " 4            auc  0.908\n",
       " 5  precision:0.3  0.650\n",
       " 6     recall:0.3  0.897\n",
       " 7         f1:0.3  0.754,\n",
       " array([[37, 14],\n",
       "        [ 3, 26]]))"
      ]
     },
     "execution_count": 24,
     "metadata": {},
     "output_type": "execute_result"
    }
   ],
   "source": [
    "#final report\n",
    " \n",
    "#a) import\n",
    "import pandas as pd\n",
    "from sklearn.metrics import accuracy_score, precision_score, recall_score, f1_score, confusion_matrix\n",
    "import matplotlib as plt\n",
    "\n",
    "#base at 0.5\n",
    "y_pred_05 = pipe.predict(X_test)\n",
    "y_proba = pipe.predict_proba(X_test)[:, 1]\n",
    "\n",
    "#chosen threshold\n",
    "t= 0.3\n",
    "y_pred_thres_03 = (y_proba >= t).astype(int)\n",
    "\n",
    "report = pd.DataFrame({\n",
    "    \"metric\": [\"accuracy:o,5\", \"precision:0.5\", \"recall:0.5\", \"f1:0.5\",\"auc\",\n",
    "    f\"precision:{t}\", f\"recall:{t}\", f\"f1:{t}\"],\n",
    "    \"value\": [\n",
    "        accuracy_score(y_test, y_pred_05),\n",
    "        precision_score(y_test, y_pred_05),\n",
    "        recall_score(y_test, y_pred_05),\n",
    "        f1_score(y_test, y_pred_05),\n",
    "        roc_auc_score(y_test, y_proba),\n",
    "        precision_score(y_test, y_pred_thres_03),\n",
    "        recall_score(y_test, y_pred_thres_03),\n",
    "        f1_score(y_test, y_pred_thres_03)\n",
    "    ]\n",
    "})\n",
    "\n",
    "cm = confusion_matrix(y_test, y_pred_thres_03)\n",
    "\n",
    "report.round(3), cm"
   ]
  },
  {
   "cell_type": "code",
   "execution_count": 25,
   "id": "3e2b9ee5",
   "metadata": {},
   "outputs": [
    {
     "name": "stdout",
     "output_type": "stream",
     "text": [
      "Accuracy: 0.8625\n",
      "AUC     : 0.9350912778904664\n",
      "              precision    recall  f1-score   support\n",
      "\n",
      "           0      0.900     0.882     0.891        51\n",
      "           1      0.800     0.828     0.814        29\n",
      "\n",
      "    accuracy                          0.863        80\n",
      "   macro avg      0.850     0.855     0.852        80\n",
      "weighted avg      0.864     0.863     0.863        80\n",
      "\n"
     ]
    }
   ],
   "source": [
    "                                                    #Decision Tree\n",
    "#1) Import models and metrics\n",
    "from sklearn.tree import DecisionTreeClassifier\n",
    "from sklearn.metrics import accuracy_score, classification_report, roc_auc_score\n",
    "\n",
    "#2) Create a tree\n",
    "tree = DecisionTreeClassifier(max_depth=4, random_state=42)\n",
    "\n",
    "#3) Fit training data\n",
    "tree.fit(X_train, y_train)\n",
    "\n",
    "#4) Predict unseen data\n",
    "tree_pred = tree.predict(X_test)\n",
    "tree_proba = tree.predict_proba(X_test)[:, 1]\n",
    "\n",
    "#5) Evaluate\n",
    "print(\"Accuracy:\", accuracy_score(y_test, tree_pred))\n",
    "print(\"AUC     :\", roc_auc_score(y_test, tree_proba))\n",
    "print(classification_report(y_test, tree_pred, digits=3))"
   ]
  }
 ],
 "metadata": {
  "kernelspec": {
   "display_name": "Python 3",
   "language": "python",
   "name": "python3"
  },
  "language_info": {
   "codemirror_mode": {
    "name": "ipython",
    "version": 3
   },
   "file_extension": ".py",
   "mimetype": "text/x-python",
   "name": "python",
   "nbconvert_exporter": "python",
   "pygments_lexer": "ipython3",
   "version": "3.14.0"
  }
 },
 "nbformat": 4,
 "nbformat_minor": 5
}
